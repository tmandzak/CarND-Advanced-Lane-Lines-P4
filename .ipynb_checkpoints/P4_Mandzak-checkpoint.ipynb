{
 "cells": [
  {
   "cell_type": "markdown",
   "metadata": {
    "deletable": true,
    "editable": true
   },
   "source": [
    "## Advanced Lane Finding Project\n",
    "\n",
    "The goals / steps of this project are the following:\n",
    "\n",
    "* Compute the camera calibration matrix and distortion coefficients given a set of chessboard images.\n",
    "* Apply a distortion correction to raw images.\n",
    "* Use color transforms, gradients, etc., to create a thresholded binary image.\n",
    "* Apply a perspective transform to rectify binary image (\"birds-eye view\").\n",
    "* Detect lane pixels and fit to find the lane boundary.\n",
    "* Determine the curvature of the lane and vehicle position with respect to center.\n",
    "* Warp the detected lane boundaries back onto the original image.\n",
    "* Output visual display of the lane boundaries and numerical estimation of lane curvature and vehicle position.\n",
    "\n",
    "---\n",
    "## Camera calibration using chessboard images"
   ]
  },
  {
   "cell_type": "code",
   "execution_count": 1,
   "metadata": {
    "collapsed": true,
    "deletable": true,
    "editable": true
   },
   "outputs": [],
   "source": [
    "%matplotlib inline"
   ]
  },
  {
   "cell_type": "code",
   "execution_count": 11,
   "metadata": {
    "collapsed": false,
    "deletable": true,
    "editable": true
   },
   "outputs": [
    {
     "data": {
      "text/plain": [
       "<matplotlib.figure.Figure at 0x19389e48>"
      ]
     },
     "metadata": {},
     "output_type": "display_data"
    }
   ],
   "source": [
    "%run -n AdvancedLaneFinding.py"
   ]
  },
  {
   "cell_type": "code",
   "execution_count": 13,
   "metadata": {
    "collapsed": false,
    "deletable": true,
    "editable": true
   },
   "outputs": [],
   "source": [
    "advancedLaneFinding = AdvancedLaneFinding(cal_images = 'camera_cal/calibration*.jpg',\n",
    "                                          cal_nx = 9,\n",
    "                                          cal_ny = 6,\n",
    "                                          test_images = 'test_images/*.jpg',\n",
    "                                          minpix = 50, # Set minimum number of pixels found to recenter window\n",
    "                                          usePreviousFrame = False,\n",
    "                                          ym_per_pix = 30/720, # meters per pixel in y dimension\n",
    "                                          xm_per_pix = 3.7/700 # meters per pixel in x dimension\n",
    "                                                  )"
   ]
  },
  {
   "cell_type": "raw",
   "metadata": {},
   "source": [
    "# To find center line after perspective transform\n",
    "mpimg.imsave('center_perspective.jpg', advancedLaneFinding.warpPerspective(mpimg.imread('center.png')))"
   ]
  },
  {
   "cell_type": "code",
   "execution_count": null,
   "metadata": {
    "collapsed": true,
    "deletable": true,
    "editable": true
   },
   "outputs": [],
   "source": [
    "advancedLaneFinding.draw_corners_images()"
   ]
  },
  {
   "cell_type": "code",
   "execution_count": null,
   "metadata": {
    "collapsed": true,
    "deletable": true,
    "editable": true
   },
   "outputs": [],
   "source": [
    "advancedLaneFinding.draw_corners_images_failed()"
   ]
  },
  {
   "cell_type": "code",
   "execution_count": null,
   "metadata": {
    "collapsed": true,
    "deletable": true,
    "editable": true
   },
   "outputs": [],
   "source": [
    "advancedLaneFinding.draw_test_undistort('camera_cal/calibration1.jpg')"
   ]
  },
  {
   "cell_type": "markdown",
   "metadata": {
    "deletable": true,
    "editable": true
   },
   "source": [
    "## Apply distortion correction"
   ]
  },
  {
   "cell_type": "code",
   "execution_count": null,
   "metadata": {
    "collapsed": true,
    "deletable": true,
    "editable": true
   },
   "outputs": [],
   "source": [
    "advancedLaneFinding.test_images = advancedLaneFinding.draw_test_images_undistort()"
   ]
  },
  {
   "cell_type": "raw",
   "metadata": {},
   "source": [
    "# For finding source points for perpective transform\n",
    "mpimg.imsave('straight_lines1_undistorted.jpg', advancedLaneFinding.test_images[0])"
   ]
  },
  {
   "cell_type": "markdown",
   "metadata": {
    "deletable": true,
    "editable": true
   },
   "source": [
    "## Color and Gradient thresholded binary images"
   ]
  },
  {
   "cell_type": "raw",
   "metadata": {
    "deletable": true,
    "editable": true
   },
   "source": [
    "#_ = advancedLaneFinding.draw_test_images_color_threshold()"
   ]
  },
  {
   "cell_type": "raw",
   "metadata": {
    "collapsed": false,
    "deletable": true,
    "editable": true
   },
   "source": [
    "#_ = advancedLaneFinding.draw_test_images_gradient_threshold()"
   ]
  },
  {
   "cell_type": "code",
   "execution_count": null,
   "metadata": {
    "collapsed": true,
    "deletable": true,
    "editable": true
   },
   "outputs": [],
   "source": [
    "processed = advancedLaneFinding.draw_test_images_mixed_threshold()"
   ]
  },
  {
   "cell_type": "raw",
   "metadata": {},
   "source": [
    "#advancedLaneFinding._draw_images(images=processed[0])"
   ]
  },
  {
   "cell_type": "markdown",
   "metadata": {
    "deletable": true,
    "editable": true
   },
   "source": [
    "## Birds-eye view"
   ]
  },
  {
   "cell_type": "code",
   "execution_count": null,
   "metadata": {
    "collapsed": true,
    "deletable": true,
    "editable": true
   },
   "outputs": [],
   "source": [
    "res = advancedLaneFinding.draw_test_images_warped()\n",
    "#_ = advancedLaneFinding.draw_test_images_mixed_threshold(res[1])"
   ]
  },
  {
   "cell_type": "code",
   "execution_count": null,
   "metadata": {
    "collapsed": true,
    "deletable": true,
    "editable": true
   },
   "outputs": [],
   "source": [
    "processed = advancedLaneFinding.draw_test_images_warped(processed[0])"
   ]
  },
  {
   "cell_type": "markdown",
   "metadata": {
    "deletable": true,
    "editable": true
   },
   "source": [
    "## Locate the Lane Lines"
   ]
  },
  {
   "cell_type": "code",
   "execution_count": null,
   "metadata": {
    "collapsed": true,
    "deletable": true,
    "editable": true
   },
   "outputs": [],
   "source": [
    "_ = advancedLaneFinding.draw_binary_images_lanes_located(processed[0])"
   ]
  },
  {
   "cell_type": "markdown",
   "metadata": {},
   "source": [
    "## Lane area drawing"
   ]
  },
  {
   "cell_type": "code",
   "execution_count": null,
   "metadata": {
    "collapsed": true,
    "deletable": true,
    "editable": true
   },
   "outputs": [],
   "source": [
    "_ = advancedLaneFinding.draw_test_images_area_located(processed[0])"
   ]
  },
  {
   "cell_type": "markdown",
   "metadata": {},
   "source": [
    "## Pipeline testing"
   ]
  },
  {
   "cell_type": "code",
   "execution_count": 22,
   "metadata": {
    "collapsed": false
   },
   "outputs": [],
   "source": [
    "pipelineTesting = AdvancedLaneFinding(cal_images = 'camera_cal/calibration*.jpg',\n",
    "                                          cal_nx = 9,\n",
    "                                          cal_ny = 6,\n",
    "                                          test_images = 'test_images/*.jpg',\n",
    "                                          minpix = 50, # Set minimum number of pixels found to recenter window\n",
    "                                          usePreviousFrame = False,\n",
    "                                          ym_per_pix = 30/720, # meters per pixel in y dimension\n",
    "                                          xm_per_pix = 3.7/700 # meters per pixel in x dimension\n",
    "                                                  )"
   ]
  },
  {
   "cell_type": "code",
   "execution_count": null,
   "metadata": {
    "collapsed": true
   },
   "outputs": [],
   "source": [
    "pipelineTesting.draw_test_images_pipeline()"
   ]
  },
  {
   "cell_type": "markdown",
   "metadata": {},
   "source": [
    "## Test on Videos"
   ]
  },
  {
   "cell_type": "code",
   "execution_count": 24,
   "metadata": {
    "collapsed": true
   },
   "outputs": [],
   "source": [
    "pipelineTesting.usePreviousFrame = True"
   ]
  },
  {
   "cell_type": "code",
   "execution_count": 25,
   "metadata": {
    "collapsed": true
   },
   "outputs": [],
   "source": [
    "# Import everything needed to edit/save/watch video clips\n",
    "from moviepy.editor import VideoFileClip\n",
    "from IPython.display import HTML"
   ]
  },
  {
   "cell_type": "code",
   "execution_count": 8,
   "metadata": {
    "collapsed": false,
    "scrolled": false
   },
   "outputs": [
    {
     "name": "stdout",
     "output_type": "stream",
     "text": [
      "[MoviePy] >>>> Building video project_video_output.mp4\n",
      "[MoviePy] Writing video project_video_output.mp4\n"
     ]
    },
    {
     "name": "stderr",
     "output_type": "stream",
     "text": [
      "100%|█████████▉| 1260/1261 [03:05<00:00,  6.69it/s]\n"
     ]
    },
    {
     "name": "stdout",
     "output_type": "stream",
     "text": [
      "[MoviePy] Done.\n",
      "[MoviePy] >>>> Video ready: project_video_output.mp4 \n",
      "\n",
      "Wall time: 3min 6s\n"
     ]
    }
   ],
   "source": [
    "clip1 = VideoFileClip('project_video.mp4')\n",
    "clip = clip1.fl_image(pipelineTesting.pipeline) #NOTE: this function expects color images!!\n",
    "%time clip.write_videofile('project_video_output.mp4', audio=False)"
   ]
  },
  {
   "cell_type": "raw",
   "metadata": {},
   "source": [
    "pipelineTesting.usePreviousFrame = True\n",
    "pipelineTesting.left_fit = []\n",
    "pipelineTesting.right_fit = []\n",
    "\n",
    "clip1 = VideoFileClip('challenge_video.mp4')\n",
    "clip = clip1.fl_image(pipelineTesting.pipeline) #NOTE: this function expects color images!!\n",
    "%time clip.write_videofile('challenge_video_output.mp4', audio=False)"
   ]
  }
 ],
 "metadata": {
  "anaconda-cloud": {},
  "kernelspec": {
   "display_name": "Python 3",
   "language": "python",
   "name": "python3"
  },
  "language_info": {
   "codemirror_mode": {
    "name": "ipython",
    "version": 3
   },
   "file_extension": ".py",
   "mimetype": "text/x-python",
   "name": "python",
   "nbconvert_exporter": "python",
   "pygments_lexer": "ipython3",
   "version": "3.5.2"
  },
  "widgets": {
   "state": {},
   "version": "1.1.2"
  }
 },
 "nbformat": 4,
 "nbformat_minor": 1
}
